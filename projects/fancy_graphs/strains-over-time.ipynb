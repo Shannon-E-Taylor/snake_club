{
 "cells": [
  {
   "cell_type": "markdown",
   "metadata": {},
   "source": [
    "# How do bacterial strains deposited in NCBI change over time? "
   ]
  },
  {
   "cell_type": "raw",
   "metadata": {},
   "source": [
    "<script>\n",
    "  function code_toggle() {\n",
    "    if (code_shown){\n",
    "      $('div.input').hide('500');\n",
    "      $('#toggleButton').val('Show Code')\n",
    "    } else {\n",
    "      $('div.input').show('500');\n",
    "      $('#toggleButton').val('Hide Code')\n",
    "    }\n",
    "    code_shown = !code_shown\n",
    "  }\n",
    "\n",
    "  $( document ).ready(function(){\n",
    "    code_shown=false;\n",
    "    $('div.input').hide()\n",
    "  });\n",
    "</script>\n",
    "<form action=\"javascript:code_toggle()\"><input type=\"submit\" id=\"toggleButton\" value=\"Show Code\"></form>\n",
    "\n",
    "<!--- This produces the \"show code\" button. From http://chris-said.io/2016/02/13/how-to-make-polished-jupyter-presentations-with-optional-code-visibility/ Note that this will break code when you try to save the notebook as pdf---> "
   ]
  },
  {
   "cell_type": "code",
   "execution_count": 1,
   "metadata": {},
   "outputs": [],
   "source": [
    "#imports \n",
    "#%reset\n",
    "import pandas\n",
    "import matplotlib\n",
    "import matplotlib.pyplot as plt\n",
    "import numpy as np\n"
   ]
  },
  {
   "cell_type": "code",
   "execution_count": null,
   "metadata": {},
   "outputs": [],
   "source": [
    "my_file = \"prokaryotes.txt\" #hardcoded- bad! \n",
    "# reading in initial data set:\n",
    "data_frame = pandas.read_csv(my_file, sep = '\\t', header = 'infer', \n",
    "                             low_memory = False)\n",
    "\n",
    "#stolen from Beth. Should make data imports etc into some functions. \n",
    "#How would we write tests for that? \n",
    "data_frame['Release Date'] = pandas.to_datetime(data_frame['Release Date'])\n",
    "\n",
    "#set index\n",
    "data_frame.index = data_frame['Release Date']\n",
    "\n",
    "#Group by TaxID AND \n",
    "#count number of submissions every month\n",
    "data_frame_grouped = data_frame.groupby(\"TaxID\").resample(\"M\").count()\n",
    "\n",
    "#also group by year\n",
    "df = data_frame_grouped['TaxID'].unstack(\"TaxID\")\n",
    "\n",
    "##returns the rows (TaxIDs) with the largest number of entries, \n",
    "#for each year\n",
    "#needs to be done before grouping. \n",
    "#top_per_year = data_frame_year.idxmax(axis=1)\n",
    "top_overall = df.sum().sort_values().iloc[-15:]"
   ]
  },
  {
   "cell_type": "markdown",
   "metadata": {},
   "source": [
    "## What strains are most popular each year? "
   ]
  },
  {
   "cell_type": "code",
   "execution_count": null,
   "metadata": {},
   "outputs": [],
   "source": [
    "df.resample('Y').sum().idxmax(axis=1)"
   ]
  },
  {
   "cell_type": "markdown",
   "metadata": {},
   "source": [
    "## What is the distribution of species over time? \n",
    "\n",
    "The plot is very spiky- some plots have many more deposits than others. I wonder why? "
   ]
  },
  {
   "cell_type": "code",
   "execution_count": null,
   "metadata": {},
   "outputs": [],
   "source": [
    "col_order = df.sum().sort_values(inplace=False).index\n",
    "df1=np.split(df[col_order], [-20], axis=1)\n",
    "\n",
    "#Combines these dataframes, summing all small values to combine them\n",
    "final_df = pandas.concat([df1[1], df1[0].sum(axis=1)], axis=1)\n",
    "\n",
    "#Make the plot! \n",
    "final_df.plot.area(legend=False)\n",
    "plt.show()\n"
   ]
  },
  {
   "cell_type": "markdown",
   "metadata": {},
   "source": [
    "This is the same thing, but cumulative distribution. "
   ]
  },
  {
   "cell_type": "code",
   "execution_count": null,
   "metadata": {},
   "outputs": [],
   "source": [
    "final_df.cumsum().plot.area(legend=False)\n",
    "plt.show()"
   ]
  },
  {
   "cell_type": "markdown",
   "metadata": {},
   "source": [
    "## What does this tell us? \n",
    "\n",
    "1) In some months, there are a *lot* more bacterial species being deposited into NCBI than others. \n",
    "- Why? Is it big metagenomes papers? Or some of external deadline on submissions? \n",
    "- is it one user/center depositing all of the sequences causing the spikes, or multiple?\n",
    "\n",
    "2) Most bacterial species being sequenced are not \"the big 20\". \n",
    "- What is driving the increase in NCBI submissions? Model or non-model species? "
   ]
  },
  {
   "cell_type": "markdown",
   "metadata": {},
   "source": [
    "## To-Do\n",
    "\n",
    "- make the code nicer- It'd be nice to be able to make different plots of different variables, without having to re-group the data frame each time. This must be possible. \n",
    "- axes etc for the plots! "
   ]
  }
 ],
 "metadata": {
  "kernelspec": {
   "display_name": "Python 3",
   "language": "python",
   "name": "python3"
  },
  "language_info": {
   "codemirror_mode": {
    "name": "ipython",
    "version": 3
   },
   "file_extension": ".py",
   "mimetype": "text/x-python",
   "name": "python",
   "nbconvert_exporter": "python",
   "pygments_lexer": "ipython3",
   "version": "3.6.6"
  }
 },
 "nbformat": 4,
 "nbformat_minor": 2
}
